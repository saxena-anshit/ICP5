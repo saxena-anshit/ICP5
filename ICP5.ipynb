{
 "cells": [
  {
   "cell_type": "code",
   "execution_count": 41,
   "metadata": {},
   "outputs": [],
   "source": [
    "import pandas as pd"
   ]
  },
  {
   "cell_type": "code",
   "execution_count": 42,
   "metadata": {},
   "outputs": [],
   "source": [
    "documentA = 'the man went out for a walk'\n",
    "documentB = 'the children sat around the fire'\n",
    "documentC = 'the family went for a picnic in the park'\n",
    "documentD = 'the children were running in the park'\n",
    "documentE = 'the elder people sat around the fire'"
   ]
  },
  {
   "cell_type": "code",
   "execution_count": 43,
   "metadata": {},
   "outputs": [],
   "source": [
    "bagOfWordsA = documentA.split(' ')\n",
    "bagOfWordsB = documentB.split(' ')\n",
    "bagOfWordsC = documentC.split(' ')\n",
    "bagOfWordsD = documentD.split(' ')\n",
    "bagOfWordsE = documentE.split(' ')"
   ]
  },
  {
   "cell_type": "code",
   "execution_count": 44,
   "metadata": {},
   "outputs": [],
   "source": [
    "uniqueWords = set(bagOfWordsA).union(set(bagOfWordsB)).union(set(bagOfWordsC)).union(set(bagOfWordsD)).union(set(bagOfWordsE))"
   ]
  },
  {
   "cell_type": "code",
   "execution_count": 45,
   "metadata": {},
   "outputs": [],
   "source": [
    "numOfWordsA = dict.fromkeys(uniqueWords, 0)\n",
    "for word in bagOfWordsA:\n",
    "    numOfWordsA[word] += 1\n",
    "numOfWordsB = dict.fromkeys(uniqueWords, 0)\n",
    "for word in bagOfWordsB:\n",
    "    numOfWordsB[word] += 1\n",
    "numOfWordsC = dict.fromkeys(uniqueWords, 0)\n",
    "for word in bagOfWordsC:\n",
    "    numOfWordsC[word] += 1\n",
    "numOfWordsD = dict.fromkeys(uniqueWords, 0)\n",
    "for word in bagOfWordsD:\n",
    "    numOfWordsD[word] += 1\n",
    "numOfWordsE = dict.fromkeys(uniqueWords, 0)\n",
    "for word in bagOfWordsE:\n",
    "    numOfWordsE[word] += 1"
   ]
  },
  {
   "cell_type": "code",
   "execution_count": 46,
   "metadata": {},
   "outputs": [],
   "source": [
    "from nltk.corpus import stopwords"
   ]
  },
  {
   "cell_type": "code",
   "execution_count": 47,
   "metadata": {},
   "outputs": [],
   "source": [
    "def computeTF(wordDict, bagOfWords):\n",
    "    tfDict = {}\n",
    "    bagOfWordsCount = len(bagOfWords)\n",
    "    for word, count in wordDict.items():\n",
    "        tfDict[word] = count / float(bagOfWordsCount)\n",
    "    return tfDict"
   ]
  },
  {
   "cell_type": "code",
   "execution_count": 48,
   "metadata": {},
   "outputs": [],
   "source": [
    "tfA = computeTF(numOfWordsA, bagOfWordsA)\n",
    "tfB = computeTF(numOfWordsB, bagOfWordsB)\n",
    "tfC = computeTF(numOfWordsC, bagOfWordsC)\n",
    "tfD = computeTF(numOfWordsD, bagOfWordsD)\n",
    "tfE = computeTF(numOfWordsE, bagOfWordsE)"
   ]
  },
  {
   "cell_type": "code",
   "execution_count": 49,
   "metadata": {},
   "outputs": [
    {
     "name": "stdout",
     "output_type": "stream",
     "text": [
      "{'out': 0.14285714285714285, 'man': 0.14285714285714285, 'for': 0.14285714285714285, 'walk': 0.14285714285714285, 'elder': 0.0, 'sat': 0.0, 'a': 0.14285714285714285, 'around': 0.0, 'were': 0.0, 'went': 0.14285714285714285, 'family': 0.0, 'children': 0.0, 'running': 0.0, 'the': 0.14285714285714285, 'in': 0.0, 'picnic': 0.0, 'people': 0.0, 'park': 0.0, 'fire': 0.0}\n"
     ]
    }
   ],
   "source": [
    "print(tfA)"
   ]
  },
  {
   "cell_type": "code",
   "execution_count": 50,
   "metadata": {},
   "outputs": [
    {
     "name": "stdout",
     "output_type": "stream",
     "text": [
      "{'out': 0.0, 'man': 0.0, 'for': 0.0, 'walk': 0.0, 'elder': 0.0, 'sat': 0.16666666666666666, 'a': 0.0, 'around': 0.16666666666666666, 'were': 0.0, 'went': 0.0, 'family': 0.0, 'children': 0.16666666666666666, 'running': 0.0, 'the': 0.3333333333333333, 'in': 0.0, 'picnic': 0.0, 'people': 0.0, 'park': 0.0, 'fire': 0.16666666666666666}\n"
     ]
    }
   ],
   "source": [
    "print(tfB)"
   ]
  },
  {
   "cell_type": "code",
   "execution_count": 51,
   "metadata": {},
   "outputs": [
    {
     "name": "stdout",
     "output_type": "stream",
     "text": [
      "{'out': 0.0, 'man': 0.0, 'for': 0.1111111111111111, 'walk': 0.0, 'elder': 0.0, 'sat': 0.0, 'a': 0.1111111111111111, 'around': 0.0, 'were': 0.0, 'went': 0.1111111111111111, 'family': 0.1111111111111111, 'children': 0.0, 'running': 0.0, 'the': 0.2222222222222222, 'in': 0.1111111111111111, 'picnic': 0.1111111111111111, 'people': 0.0, 'park': 0.1111111111111111, 'fire': 0.0}\n"
     ]
    }
   ],
   "source": [
    "print(tfC)"
   ]
  },
  {
   "cell_type": "code",
   "execution_count": 52,
   "metadata": {},
   "outputs": [
    {
     "name": "stdout",
     "output_type": "stream",
     "text": [
      "{'out': 0.0, 'man': 0.0, 'for': 0.0, 'walk': 0.0, 'elder': 0.0, 'sat': 0.0, 'a': 0.0, 'around': 0.0, 'were': 0.14285714285714285, 'went': 0.0, 'family': 0.0, 'children': 0.14285714285714285, 'running': 0.14285714285714285, 'the': 0.2857142857142857, 'in': 0.14285714285714285, 'picnic': 0.0, 'people': 0.0, 'park': 0.14285714285714285, 'fire': 0.0}\n"
     ]
    }
   ],
   "source": [
    "print(tfD)"
   ]
  },
  {
   "cell_type": "code",
   "execution_count": 53,
   "metadata": {},
   "outputs": [
    {
     "name": "stdout",
     "output_type": "stream",
     "text": [
      "{'out': 0.0, 'man': 0.0, 'for': 0.0, 'walk': 0.0, 'elder': 0.14285714285714285, 'sat': 0.14285714285714285, 'a': 0.0, 'around': 0.14285714285714285, 'were': 0.0, 'went': 0.0, 'family': 0.0, 'children': 0.0, 'running': 0.0, 'the': 0.2857142857142857, 'in': 0.0, 'picnic': 0.0, 'people': 0.14285714285714285, 'park': 0.0, 'fire': 0.14285714285714285}\n"
     ]
    }
   ],
   "source": [
    "print(tfE)"
   ]
  },
  {
   "cell_type": "code",
   "execution_count": 54,
   "metadata": {},
   "outputs": [],
   "source": [
    "def computeIDF(documents):\n",
    "    import math\n",
    "    N = len(documents)\n",
    "    \n",
    "    idfDict = dict.fromkeys(documents[0].keys(), 0)\n",
    "    for document in documents:\n",
    "        for word, val in document.items():\n",
    "            if val > 0:\n",
    "                idfDict[word] += 1\n",
    "    \n",
    "    for word, val in idfDict.items():\n",
    "        idfDict[word] = math.log(N / float(val))\n",
    "    return idfDict"
   ]
  },
  {
   "cell_type": "code",
   "execution_count": 55,
   "metadata": {},
   "outputs": [],
   "source": [
    "idfs = computeIDF([numOfWordsA, numOfWordsB, numOfWordsC, numOfWordsD, numOfWordsE])"
   ]
  },
  {
   "cell_type": "code",
   "execution_count": 56,
   "metadata": {},
   "outputs": [
    {
     "name": "stdout",
     "output_type": "stream",
     "text": [
      "{'out': 1.6094379124341003, 'man': 1.6094379124341003, 'for': 0.9162907318741551, 'walk': 1.6094379124341003, 'elder': 1.6094379124341003, 'sat': 0.9162907318741551, 'a': 0.9162907318741551, 'around': 0.9162907318741551, 'were': 1.6094379124341003, 'went': 0.9162907318741551, 'family': 1.6094379124341003, 'children': 0.9162907318741551, 'running': 1.6094379124341003, 'the': 0.0, 'in': 0.9162907318741551, 'picnic': 1.6094379124341003, 'people': 1.6094379124341003, 'park': 0.9162907318741551, 'fire': 0.9162907318741551}\n"
     ]
    }
   ],
   "source": [
    "print(idfs)"
   ]
  },
  {
   "cell_type": "code",
   "execution_count": 57,
   "metadata": {},
   "outputs": [],
   "source": [
    "def computeTFIDF(tfBagOfWords, idfs):\n",
    "    tfidf = {}\n",
    "    for word, val in tfBagOfWords.items():\n",
    "        tfidf[word] = val * idfs[word]\n",
    "    return tfidf"
   ]
  },
  {
   "cell_type": "code",
   "execution_count": 58,
   "metadata": {},
   "outputs": [],
   "source": [
    "tfidfA = computeTFIDF(tfA, idfs)\n",
    "tfidfB = computeTFIDF(tfB, idfs)\n",
    "tfidfC = computeTFIDF(tfC, idfs)\n",
    "tfidfD = computeTFIDF(tfD, idfs)\n",
    "tfidfE = computeTFIDF(tfE, idfs)\n",
    "df = pd.DataFrame([tfidfA, tfidfB, tfidfC, tfidfD, tfidfE])"
   ]
  },
  {
   "cell_type": "code",
   "execution_count": 59,
   "metadata": {},
   "outputs": [
    {
     "name": "stdout",
     "output_type": "stream",
     "text": [
      "       out      man       for     walk    elder       sat         a    around  \\\n",
      "0  0.22992  0.22992  0.130899  0.22992  0.00000  0.000000  0.130899  0.000000   \n",
      "1  0.00000  0.00000  0.000000  0.00000  0.00000  0.152715  0.000000  0.152715   \n",
      "2  0.00000  0.00000  0.101810  0.00000  0.00000  0.000000  0.101810  0.000000   \n",
      "3  0.00000  0.00000  0.000000  0.00000  0.00000  0.000000  0.000000  0.000000   \n",
      "4  0.00000  0.00000  0.000000  0.00000  0.22992  0.130899  0.000000  0.130899   \n",
      "\n",
      "      were      went    family  children  running  the        in    picnic  \\\n",
      "0  0.00000  0.130899  0.000000  0.000000  0.00000  0.0  0.000000  0.000000   \n",
      "1  0.00000  0.000000  0.000000  0.152715  0.00000  0.0  0.000000  0.000000   \n",
      "2  0.00000  0.101810  0.178826  0.000000  0.00000  0.0  0.101810  0.178826   \n",
      "3  0.22992  0.000000  0.000000  0.130899  0.22992  0.0  0.130899  0.000000   \n",
      "4  0.00000  0.000000  0.000000  0.000000  0.00000  0.0  0.000000  0.000000   \n",
      "\n",
      "    people      park      fire  \n",
      "0  0.00000  0.000000  0.000000  \n",
      "1  0.00000  0.000000  0.152715  \n",
      "2  0.00000  0.101810  0.000000  \n",
      "3  0.00000  0.130899  0.000000  \n",
      "4  0.22992  0.000000  0.130899  \n"
     ]
    }
   ],
   "source": [
    "print(df)"
   ]
  },
  {
   "cell_type": "code",
   "execution_count": 60,
   "metadata": {},
   "outputs": [],
   "source": [
    "import nltk\n",
    "from nltk.stem import WordNetLemmatizer "
   ]
  },
  {
   "cell_type": "code",
   "execution_count": 61,
   "metadata": {},
   "outputs": [],
   "source": [
    "lemmatizer = WordNetLemmatizer()"
   ]
  },
  {
   "cell_type": "code",
   "execution_count": 62,
   "metadata": {},
   "outputs": [],
   "source": [
    "word_listA = nltk.word_tokenize(documentA)\n",
    "word_listB = nltk.word_tokenize(documentB)\n",
    "word_listC = nltk.word_tokenize(documentC)\n",
    "word_listD = nltk.word_tokenize(documentD)\n",
    "word_listE = nltk.word_tokenize(documentE)"
   ]
  },
  {
   "cell_type": "code",
   "execution_count": 63,
   "metadata": {},
   "outputs": [],
   "source": [
    "lemmatized_documentA = ' '.join([lemmatizer.lemmatize(w) for w in word_listA])\n",
    "lemmatized_documentB = ' '.join([lemmatizer.lemmatize(w) for w in word_listB])\n",
    "lemmatized_documentC = ' '.join([lemmatizer.lemmatize(w) for w in word_listC])\n",
    "lemmatized_documentD = ' '.join([lemmatizer.lemmatize(w) for w in word_listD])\n",
    "lemmatized_documentE = ' '.join([lemmatizer.lemmatize(w) for w in word_listE])"
   ]
  },
  {
   "cell_type": "code",
   "execution_count": 64,
   "metadata": {},
   "outputs": [],
   "source": [
    "lbagOfWordsA = lemmatized_documentA.split(' ')\n",
    "lbagOfWordsB = lemmatized_documentB.split(' ')\n",
    "lbagOfWordsC = lemmatized_documentC.split(' ')\n",
    "lbagOfWordsD = lemmatized_documentD.split(' ')\n",
    "lbagOfWordsE = lemmatized_documentE.split(' ')"
   ]
  },
  {
   "cell_type": "code",
   "execution_count": 65,
   "metadata": {},
   "outputs": [],
   "source": [
    "luniqueWords = set(lbagOfWordsA).union(set(lbagOfWordsB)).union(set(lbagOfWordsC)).union(set(lbagOfWordsD)).union(set(lbagOfWordsE))"
   ]
  },
  {
   "cell_type": "code",
   "execution_count": 66,
   "metadata": {},
   "outputs": [],
   "source": [
    "lnumOfWordsA = dict.fromkeys(luniqueWords, 0)\n",
    "for word in lbagOfWordsA:\n",
    "    lnumOfWordsA[word] += 1\n",
    "lnumOfWordsB = dict.fromkeys(luniqueWords, 0)\n",
    "for word in lbagOfWordsB:\n",
    "    lnumOfWordsB[word] += 1\n",
    "lnumOfWordsC = dict.fromkeys(luniqueWords, 0)\n",
    "for word in lbagOfWordsC:\n",
    "    lnumOfWordsC[word] += 1\n",
    "lnumOfWordsD = dict.fromkeys(luniqueWords, 0)\n",
    "for word in lbagOfWordsD:\n",
    "    lnumOfWordsD[word] += 1\n",
    "lnumOfWordsE = dict.fromkeys(luniqueWords, 0)\n",
    "for word in lbagOfWordsE:\n",
    "    lnumOfWordsE[word] += 1"
   ]
  },
  {
   "cell_type": "code",
   "execution_count": 67,
   "metadata": {},
   "outputs": [],
   "source": [
    "ltfA = computeTF(lnumOfWordsA, lbagOfWordsA)\n",
    "ltfB = computeTF(lnumOfWordsB, lbagOfWordsB)\n",
    "ltfC = computeTF(lnumOfWordsC, lbagOfWordsC)\n",
    "ltfD = computeTF(lnumOfWordsD, lbagOfWordsD)\n",
    "ltfE = computeTF(lnumOfWordsE, lbagOfWordsE)"
   ]
  },
  {
   "cell_type": "code",
   "execution_count": 68,
   "metadata": {},
   "outputs": [],
   "source": [
    "lidfs = computeIDF([lnumOfWordsA, lnumOfWordsB, lnumOfWordsC, lnumOfWordsD, lnumOfWordsE])"
   ]
  },
  {
   "cell_type": "code",
   "execution_count": 69,
   "metadata": {},
   "outputs": [],
   "source": [
    "ltfidfA = computeTFIDF(ltfA, lidfs)\n",
    "ltfidfB = computeTFIDF(ltfB, lidfs)\n",
    "ltfidfC = computeTFIDF(ltfC, lidfs)\n",
    "ltfidfD = computeTFIDF(ltfD, lidfs)\n",
    "ltfidfE = computeTFIDF(ltfE, lidfs)\n",
    "ldf = pd.DataFrame([ltfidfA, ltfidfB, ltfidfC, ltfidfD, ltfidfE])"
   ]
  },
  {
   "cell_type": "code",
   "execution_count": 70,
   "metadata": {},
   "outputs": [
    {
     "name": "stdout",
     "output_type": "stream",
     "text": [
      "       out      man       for     walk    elder       sat         a    around  \\\n",
      "0  0.22992  0.22992  0.130899  0.22992  0.00000  0.000000  0.130899  0.000000   \n",
      "1  0.00000  0.00000  0.000000  0.00000  0.00000  0.152715  0.000000  0.152715   \n",
      "2  0.00000  0.00000  0.101810  0.00000  0.00000  0.000000  0.101810  0.000000   \n",
      "3  0.00000  0.00000  0.000000  0.00000  0.00000  0.000000  0.000000  0.000000   \n",
      "4  0.00000  0.00000  0.000000  0.00000  0.22992  0.130899  0.000000  0.130899   \n",
      "\n",
      "      were      went    family  running  the        in    picnic   people  \\\n",
      "0  0.00000  0.130899  0.000000  0.00000  0.0  0.000000  0.000000  0.00000   \n",
      "1  0.00000  0.000000  0.000000  0.00000  0.0  0.000000  0.000000  0.00000   \n",
      "2  0.00000  0.101810  0.178826  0.00000  0.0  0.101810  0.178826  0.00000   \n",
      "3  0.22992  0.000000  0.000000  0.22992  0.0  0.130899  0.000000  0.00000   \n",
      "4  0.00000  0.000000  0.000000  0.00000  0.0  0.000000  0.000000  0.22992   \n",
      "\n",
      "       park      fire     child  \n",
      "0  0.000000  0.000000  0.000000  \n",
      "1  0.000000  0.152715  0.152715  \n",
      "2  0.101810  0.000000  0.000000  \n",
      "3  0.130899  0.000000  0.130899  \n",
      "4  0.000000  0.130899  0.000000  \n"
     ]
    }
   ],
   "source": [
    "print(ldf)"
   ]
  },
  {
   "cell_type": "code",
   "execution_count": 71,
   "metadata": {},
   "outputs": [],
   "source": [
    "listA = [documentA]\n",
    "listB = [documentB]\n",
    "listC = [documentC]\n",
    "listD = [documentD]\n",
    "listE = [documentE]"
   ]
  },
  {
   "cell_type": "code",
   "execution_count": 72,
   "metadata": {},
   "outputs": [],
   "source": [
    "resA = [(x, i.split()[j + 1]) for i in listA  \n",
    "       for j, x in enumerate(i.split()) if j < len(i.split()) - 1]\n",
    "resB = [(x, i.split()[j + 1]) for i in listB  \n",
    "       for j, x in enumerate(i.split()) if j < len(i.split()) - 1]\n",
    "resC = [(x, i.split()[j + 1]) for i in listC  \n",
    "       for j, x in enumerate(i.split()) if j < len(i.split()) - 1]\n",
    "resD = [(x, i.split()[j + 1]) for i in listD  \n",
    "       for j, x in enumerate(i.split()) if j < len(i.split()) - 1]\n",
    "resE = [(x, i.split()[j + 1]) for i in listE  \n",
    "       for j, x in enumerate(i.split()) if j < len(i.split()) - 1]"
   ]
  },
  {
   "cell_type": "code",
   "execution_count": 73,
   "metadata": {},
   "outputs": [],
   "source": [
    "runiqueWords = set(resA).union(set(resB)).union(set(resC)).union(set(resD)).union(set(resE))"
   ]
  },
  {
   "cell_type": "code",
   "execution_count": 74,
   "metadata": {},
   "outputs": [],
   "source": [
    "rnumOfWordsA = dict.fromkeys(runiqueWords, 0)\n",
    "for word in resA:\n",
    "    rnumOfWordsA[word] += 1\n",
    "rnumOfWordsB = dict.fromkeys(runiqueWords, 0)\n",
    "for word in resB:\n",
    "    rnumOfWordsB[word] += 1\n",
    "rnumOfWordsC = dict.fromkeys(runiqueWords, 0)\n",
    "for word in resC:\n",
    "    rnumOfWordsC[word] += 1\n",
    "rnumOfWordsD = dict.fromkeys(runiqueWords, 0)\n",
    "for word in resD:\n",
    "    rnumOfWordsD[word] += 1\n",
    "rnumOfWordsE = dict.fromkeys(runiqueWords, 0)\n",
    "for word in resE:\n",
    "    rnumOfWordsE[word] += 1"
   ]
  },
  {
   "cell_type": "code",
   "execution_count": 75,
   "metadata": {},
   "outputs": [],
   "source": [
    "rtfA = computeTF(rnumOfWordsA, resA)\n",
    "rtfB = computeTF(rnumOfWordsB, resB)\n",
    "rtfC = computeTF(rnumOfWordsC, resC)\n",
    "rtfD = computeTF(rnumOfWordsD, resD)\n",
    "rtfE = computeTF(rnumOfWordsE, resE)"
   ]
  },
  {
   "cell_type": "code",
   "execution_count": 76,
   "metadata": {},
   "outputs": [],
   "source": [
    "ridfs = computeIDF([rnumOfWordsA, rnumOfWordsB, rnumOfWordsC, rnumOfWordsD, rnumOfWordsE])"
   ]
  },
  {
   "cell_type": "code",
   "execution_count": 77,
   "metadata": {},
   "outputs": [],
   "source": [
    "rtfidfA = computeTFIDF(rtfA, ridfs)\n",
    "rtfidfB = computeTFIDF(rtfB, ridfs)\n",
    "rtfidfC = computeTFIDF(rtfC, ridfs)\n",
    "rtfidfD = computeTFIDF(rtfD, ridfs)\n",
    "rtfidfE = computeTFIDF(rtfE, ridfs)\n",
    "rdf = pd.DataFrame([rtfidfA, rtfidfB, rtfidfC, rtfidfD, rtfidfE])"
   ]
  },
  {
   "cell_type": "code",
   "execution_count": 78,
   "metadata": {
    "scrolled": false
   },
   "outputs": [
    {
     "name": "stdout",
     "output_type": "stream",
     "text": [
      "       out      man       for     walk    elder       sat         a    around  \\\n",
      "0  0.22992  0.22992  0.130899  0.22992  0.00000  0.000000  0.130899  0.000000   \n",
      "1  0.00000  0.00000  0.000000  0.00000  0.00000  0.152715  0.000000  0.152715   \n",
      "2  0.00000  0.00000  0.101810  0.00000  0.00000  0.000000  0.101810  0.000000   \n",
      "3  0.00000  0.00000  0.000000  0.00000  0.00000  0.000000  0.000000  0.000000   \n",
      "4  0.00000  0.00000  0.000000  0.00000  0.22992  0.130899  0.000000  0.130899   \n",
      "\n",
      "      were      went    family  children  running  the        in    picnic  \\\n",
      "0  0.00000  0.130899  0.000000  0.000000  0.00000  0.0  0.000000  0.000000   \n",
      "1  0.00000  0.000000  0.000000  0.152715  0.00000  0.0  0.000000  0.000000   \n",
      "2  0.00000  0.101810  0.178826  0.000000  0.00000  0.0  0.101810  0.178826   \n",
      "3  0.22992  0.000000  0.000000  0.130899  0.22992  0.0  0.130899  0.000000   \n",
      "4  0.00000  0.000000  0.000000  0.000000  0.00000  0.0  0.000000  0.000000   \n",
      "\n",
      "    people      park      fire  \n",
      "0  0.00000  0.000000  0.000000  \n",
      "1  0.00000  0.000000  0.152715  \n",
      "2  0.00000  0.101810  0.000000  \n",
      "3  0.00000  0.130899  0.000000  \n",
      "4  0.22992  0.000000  0.130899  \n"
     ]
    }
   ],
   "source": [
    "print(df)"
   ]
  },
  {
   "cell_type": "code",
   "execution_count": 79,
   "metadata": {},
   "outputs": [
    {
     "name": "stdout",
     "output_type": "stream",
     "text": [
      "       out      man       for     walk    elder       sat         a    around  \\\n",
      "0  0.22992  0.22992  0.130899  0.22992  0.00000  0.000000  0.130899  0.000000   \n",
      "1  0.00000  0.00000  0.000000  0.00000  0.00000  0.152715  0.000000  0.152715   \n",
      "2  0.00000  0.00000  0.101810  0.00000  0.00000  0.000000  0.101810  0.000000   \n",
      "3  0.00000  0.00000  0.000000  0.00000  0.00000  0.000000  0.000000  0.000000   \n",
      "4  0.00000  0.00000  0.000000  0.00000  0.22992  0.130899  0.000000  0.130899   \n",
      "\n",
      "      were      went    family  running  the        in    picnic   people  \\\n",
      "0  0.00000  0.130899  0.000000  0.00000  0.0  0.000000  0.000000  0.00000   \n",
      "1  0.00000  0.000000  0.000000  0.00000  0.0  0.000000  0.000000  0.00000   \n",
      "2  0.00000  0.101810  0.178826  0.00000  0.0  0.101810  0.178826  0.00000   \n",
      "3  0.22992  0.000000  0.000000  0.22992  0.0  0.130899  0.000000  0.00000   \n",
      "4  0.00000  0.000000  0.000000  0.00000  0.0  0.000000  0.000000  0.22992   \n",
      "\n",
      "       park      fire     child  \n",
      "0  0.000000  0.000000  0.000000  \n",
      "1  0.000000  0.152715  0.152715  \n",
      "2  0.101810  0.000000  0.000000  \n",
      "3  0.130899  0.000000  0.130899  \n",
      "4  0.000000  0.130899  0.000000  \n"
     ]
    }
   ],
   "source": [
    "print(ldf)"
   ]
  },
  {
   "cell_type": "code",
   "execution_count": 80,
   "metadata": {},
   "outputs": [
    {
     "name": "stdout",
     "output_type": "stream",
     "text": [
      "   (people, sat)  (out, for)  (running, in)  (the, family)  (sat, around)  \\\n",
      "0        0.00000     0.26824        0.00000        0.00000       0.000000   \n",
      "1        0.00000     0.00000        0.00000        0.00000       0.183258   \n",
      "2        0.00000     0.00000        0.00000        0.20118       0.000000   \n",
      "3        0.00000     0.00000        0.26824        0.00000       0.000000   \n",
      "4        0.26824     0.00000        0.00000        0.00000       0.152715   \n",
      "\n",
      "   (the, park)  (a, picnic)  (the, man)  (went, for)  (in, the)  ...  \\\n",
      "0     0.000000      0.00000     0.26824      0.00000   0.000000  ...   \n",
      "1     0.000000      0.00000     0.00000      0.00000   0.000000  ...   \n",
      "2     0.114536      0.20118     0.00000      0.20118   0.114536  ...   \n",
      "3     0.152715      0.00000     0.00000      0.00000   0.152715  ...   \n",
      "4     0.000000      0.00000     0.00000      0.00000   0.000000  ...   \n",
      "\n",
      "   (children, sat)  (for, a)  (picnic, in)  (the, elder)  (man, went)  \\\n",
      "0         0.000000  0.152715       0.00000       0.00000      0.26824   \n",
      "1         0.321888  0.000000       0.00000       0.00000      0.00000   \n",
      "2         0.000000  0.114536       0.20118       0.00000      0.00000   \n",
      "3         0.000000  0.000000       0.00000       0.00000      0.00000   \n",
      "4         0.000000  0.000000       0.00000       0.26824      0.00000   \n",
      "\n",
      "   (around, the)  (family, went)  (went, out)  (the, children)  (a, walk)  \n",
      "0       0.000000         0.00000      0.26824         0.000000    0.26824  \n",
      "1       0.183258         0.00000      0.00000         0.183258    0.00000  \n",
      "2       0.000000         0.20118      0.00000         0.000000    0.00000  \n",
      "3       0.000000         0.00000      0.00000         0.152715    0.00000  \n",
      "4       0.152715         0.00000      0.00000         0.000000    0.00000  \n",
      "\n",
      "[5 rows x 24 columns]\n"
     ]
    }
   ],
   "source": [
    "print(rdf)"
   ]
  },
  {
   "cell_type": "code",
   "execution_count": null,
   "metadata": {},
   "outputs": [],
   "source": []
  },
  {
   "cell_type": "code",
   "execution_count": null,
   "metadata": {},
   "outputs": [],
   "source": []
  },
  {
   "cell_type": "code",
   "execution_count": null,
   "metadata": {},
   "outputs": [],
   "source": []
  },
  {
   "cell_type": "code",
   "execution_count": null,
   "metadata": {},
   "outputs": [],
   "source": []
  },
  {
   "cell_type": "code",
   "execution_count": null,
   "metadata": {},
   "outputs": [],
   "source": []
  },
  {
   "cell_type": "code",
   "execution_count": null,
   "metadata": {},
   "outputs": [],
   "source": []
  },
  {
   "cell_type": "code",
   "execution_count": null,
   "metadata": {},
   "outputs": [],
   "source": []
  },
  {
   "cell_type": "code",
   "execution_count": null,
   "metadata": {},
   "outputs": [],
   "source": []
  },
  {
   "cell_type": "code",
   "execution_count": null,
   "metadata": {},
   "outputs": [],
   "source": []
  },
  {
   "cell_type": "code",
   "execution_count": null,
   "metadata": {},
   "outputs": [],
   "source": []
  },
  {
   "cell_type": "code",
   "execution_count": null,
   "metadata": {},
   "outputs": [],
   "source": []
  },
  {
   "cell_type": "code",
   "execution_count": null,
   "metadata": {},
   "outputs": [],
   "source": []
  },
  {
   "cell_type": "code",
   "execution_count": null,
   "metadata": {},
   "outputs": [],
   "source": []
  },
  {
   "cell_type": "code",
   "execution_count": null,
   "metadata": {},
   "outputs": [],
   "source": []
  },
  {
   "cell_type": "code",
   "execution_count": null,
   "metadata": {},
   "outputs": [],
   "source": []
  },
  {
   "cell_type": "code",
   "execution_count": null,
   "metadata": {},
   "outputs": [],
   "source": []
  },
  {
   "cell_type": "code",
   "execution_count": null,
   "metadata": {},
   "outputs": [],
   "source": []
  },
  {
   "cell_type": "code",
   "execution_count": null,
   "metadata": {},
   "outputs": [],
   "source": []
  },
  {
   "cell_type": "code",
   "execution_count": null,
   "metadata": {},
   "outputs": [],
   "source": []
  },
  {
   "cell_type": "code",
   "execution_count": null,
   "metadata": {},
   "outputs": [],
   "source": []
  },
  {
   "cell_type": "code",
   "execution_count": null,
   "metadata": {},
   "outputs": [],
   "source": []
  },
  {
   "cell_type": "code",
   "execution_count": null,
   "metadata": {},
   "outputs": [],
   "source": []
  },
  {
   "cell_type": "code",
   "execution_count": null,
   "metadata": {},
   "outputs": [],
   "source": []
  },
  {
   "cell_type": "code",
   "execution_count": null,
   "metadata": {},
   "outputs": [],
   "source": []
  },
  {
   "cell_type": "code",
   "execution_count": null,
   "metadata": {},
   "outputs": [],
   "source": []
  },
  {
   "cell_type": "code",
   "execution_count": null,
   "metadata": {},
   "outputs": [],
   "source": []
  },
  {
   "cell_type": "code",
   "execution_count": null,
   "metadata": {},
   "outputs": [],
   "source": []
  },
  {
   "cell_type": "code",
   "execution_count": null,
   "metadata": {},
   "outputs": [],
   "source": []
  },
  {
   "cell_type": "code",
   "execution_count": null,
   "metadata": {},
   "outputs": [],
   "source": []
  },
  {
   "cell_type": "code",
   "execution_count": null,
   "metadata": {},
   "outputs": [],
   "source": []
  },
  {
   "cell_type": "code",
   "execution_count": null,
   "metadata": {},
   "outputs": [],
   "source": []
  },
  {
   "cell_type": "code",
   "execution_count": null,
   "metadata": {},
   "outputs": [],
   "source": []
  },
  {
   "cell_type": "code",
   "execution_count": null,
   "metadata": {},
   "outputs": [],
   "source": []
  },
  {
   "cell_type": "code",
   "execution_count": null,
   "metadata": {},
   "outputs": [],
   "source": []
  },
  {
   "cell_type": "code",
   "execution_count": null,
   "metadata": {},
   "outputs": [],
   "source": []
  },
  {
   "cell_type": "code",
   "execution_count": null,
   "metadata": {},
   "outputs": [],
   "source": []
  },
  {
   "cell_type": "code",
   "execution_count": null,
   "metadata": {},
   "outputs": [],
   "source": []
  },
  {
   "cell_type": "code",
   "execution_count": null,
   "metadata": {},
   "outputs": [],
   "source": []
  },
  {
   "cell_type": "code",
   "execution_count": null,
   "metadata": {},
   "outputs": [],
   "source": []
  },
  {
   "cell_type": "code",
   "execution_count": null,
   "metadata": {},
   "outputs": [],
   "source": []
  },
  {
   "cell_type": "code",
   "execution_count": null,
   "metadata": {},
   "outputs": [],
   "source": []
  },
  {
   "cell_type": "code",
   "execution_count": null,
   "metadata": {},
   "outputs": [],
   "source": []
  },
  {
   "cell_type": "code",
   "execution_count": null,
   "metadata": {},
   "outputs": [],
   "source": []
  }
 ],
 "metadata": {
  "kernelspec": {
   "display_name": "Python 3",
   "language": "python",
   "name": "python3"
  },
  "language_info": {
   "codemirror_mode": {
    "name": "ipython",
    "version": 3
   },
   "file_extension": ".py",
   "mimetype": "text/x-python",
   "name": "python",
   "nbconvert_exporter": "python",
   "pygments_lexer": "ipython3",
   "version": "3.8.1"
  }
 },
 "nbformat": 4,
 "nbformat_minor": 4
}
